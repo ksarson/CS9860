{
 "cells": [
  {
   "cell_type": "markdown",
   "metadata": {
    "papermill": {
     "duration": 0.008521,
     "end_time": "2020-11-25T06:18:21.469804",
     "exception": false,
     "start_time": "2020-11-25T06:18:21.461283",
     "status": "completed"
    },
    "tags": []
   },
   "source": [
    "## NLP Tutorial\n",
    "\n",
    "NLP - or *Natural Language Processing* - is shorthand for a wide array of techniques designed to help machines learn from text. Natural Language Processing powers everything from chatbots to search engines, and is used in diverse tasks like sentiment analysis and machine translation.\n",
    "\n",
    "In this tutorial we'll look at this competition's dataset, use a simple technique to process it, build a machine learning model, and submit predictions for a score!"
   ]
  },
  {
   "cell_type": "code",
   "execution_count": 1,
   "metadata": {
    "_cell_guid": "b1076dfc-b9ad-4769-8c92-a6c4dae69d19",
    "_uuid": "8f2839f25d086af736a60e9eeb907d3b93b6e0e5",
    "execution": {
     "iopub.execute_input": "2020-11-25T06:18:21.492765Z",
     "iopub.status.busy": "2020-11-25T06:18:21.491966Z",
     "iopub.status.idle": "2020-11-25T06:18:22.650283Z",
     "shell.execute_reply": "2020-11-25T06:18:22.649586Z"
    },
    "papermill": {
     "duration": 1.171184,
     "end_time": "2020-11-25T06:18:22.650434",
     "exception": false,
     "start_time": "2020-11-25T06:18:21.479250",
     "status": "completed"
    },
    "tags": []
   },
   "outputs": [],
   "source": [
    "##IMPORTING LIBRARIES###\n",
    "\n",
    "import numpy as np\n",
    "import pandas as pd\n",
    "from sklearn import feature_extraction, linear_model, model_selection, preprocessing"
   ]
  },
  {
   "cell_type": "code",
   "execution_count": 2,
   "metadata": {
    "execution": {
     "iopub.execute_input": "2020-11-25T06:18:22.672728Z",
     "iopub.status.busy": "2020-11-25T06:18:22.671841Z",
     "iopub.status.idle": "2020-11-25T06:18:22.721182Z",
     "shell.execute_reply": "2020-11-25T06:18:22.720382Z"
    },
    "papermill": {
     "duration": 0.062961,
     "end_time": "2020-11-25T06:18:22.721308",
     "exception": false,
     "start_time": "2020-11-25T06:18:22.658347",
     "status": "completed"
    },
    "tags": []
   },
   "outputs": [],
   "source": [
    "###READING IN THE DATA###\n",
    "\n",
    "train_df = pd.read_csv(\"/kaggle/input/nlp-getting-started/train.csv\")\n",
    "test_df = pd.read_csv(\"/kaggle/input/nlp-getting-started/test.csv\")"
   ]
  },
  {
   "cell_type": "code",
   "execution_count": 3,
   "metadata": {
    "_cell_guid": "79c7e3d0-c299-4dcb-8224-4455121ee9b0",
    "_uuid": "d629ff2d2480ee46fbb7e2d37f6b5fab8052498a",
    "execution": {
     "iopub.execute_input": "2020-11-25T06:18:22.750406Z",
     "iopub.status.busy": "2020-11-25T06:18:22.749450Z",
     "iopub.status.idle": "2020-11-25T06:18:22.777415Z",
     "shell.execute_reply": "2020-11-25T06:18:22.776551Z"
    },
    "papermill": {
     "duration": 0.048419,
     "end_time": "2020-11-25T06:18:22.777600",
     "exception": false,
     "start_time": "2020-11-25T06:18:22.729181",
     "status": "completed"
    },
    "tags": []
   },
   "outputs": [
    {
     "name": "stdout",
     "output_type": "stream",
     "text": [
      "This is not a disaster tweet:\n",
      "I love fruits\n",
      "\n",
      "This is a disaster tweet:\n",
      "Forest fire near La Ronge Sask. Canada\n"
     ]
    }
   ],
   "source": [
    "###QUICK LOOK AT EXAMPLES FROM THE DATA###\n",
    "\n",
    "print(\"This is not a disaster tweet:\")\n",
    "exNot = train_df[train_df[\"target\"] == 0][\"text\"].values[1]\n",
    "print(exNot)\n",
    "\n",
    "print(\"\\nThis is a disaster tweet:\")\n",
    "exIs = train_df[train_df[\"target\"] == 1][\"text\"].values[1]\n",
    "print(exIs)"
   ]
  },
  {
   "cell_type": "code",
   "execution_count": 4,
   "metadata": {
    "execution": {
     "iopub.execute_input": "2020-11-25T06:18:22.808385Z",
     "iopub.status.busy": "2020-11-25T06:18:22.807205Z",
     "iopub.status.idle": "2020-11-25T06:18:22.812700Z",
     "shell.execute_reply": "2020-11-25T06:18:22.812071Z"
    },
    "papermill": {
     "duration": 0.025997,
     "end_time": "2020-11-25T06:18:22.812823",
     "exception": false,
     "start_time": "2020-11-25T06:18:22.786826",
     "status": "completed"
    },
    "tags": []
   },
   "outputs": [
    {
     "name": "stdout",
     "output_type": "stream",
     "text": [
      "(1, 54)\n",
      "[[0 0 0 1 1 1 0 0 0 0 0 0 1 1 0 0 0 0 1 0 0 0 0 0 0 1 0 0 0 1 0 0 0 0 1 0\n",
      "  0 0 0 1 0 0 0 0 0 0 0 0 0 1 1 0 1 0]]\n"
     ]
    }
   ],
   "source": [
    "###SIMPLISTIC ANALYSIS USING THE FIRST 5 TWEETS###\n",
    "\n",
    "#Initialize count_vectorizer\n",
    "count_vectorizer = feature_extraction.text.CountVectorizer()\n",
    "\n",
    "#First 5 tweets\n",
    "example_train_vectors = count_vectorizer.fit_transform(train_df[\"text\"][0:5])\n",
    "\n",
    "#We use .todense() here because these vectors are \"sparse\" (only non-zero elements are kept to save space)\n",
    "print(example_train_vectors[0].todense().shape)\n",
    "print(example_train_vectors[0].todense())"
   ]
  },
  {
   "cell_type": "code",
   "execution_count": 5,
   "metadata": {
    "execution": {
     "iopub.execute_input": "2020-11-25T06:18:22.859736Z",
     "iopub.status.busy": "2020-11-25T06:18:22.839019Z",
     "iopub.status.idle": "2020-11-25T06:18:23.216004Z",
     "shell.execute_reply": "2020-11-25T06:18:23.216589Z"
    },
    "papermill": {
     "duration": 0.395032,
     "end_time": "2020-11-25T06:18:23.216755",
     "exception": false,
     "start_time": "2020-11-25T06:18:22.821723",
     "status": "completed"
    },
    "tags": []
   },
   "outputs": [],
   "source": [
    "###INITIALIZE VECTORS FOR ALL TWEETS###\n",
    "\n",
    "#Initialize count_vectorizer\n",
    "train_vectors = count_vectorizer.fit_transform(train_df[\"text\"])\n",
    "\n",
    "#Ensure that the train and test vectors use the same set of tokens with .transform()\n",
    "test_vectors = count_vectorizer.transform(test_df[\"text\"])"
   ]
  },
  {
   "cell_type": "code",
   "execution_count": 6,
   "metadata": {
    "execution": {
     "iopub.execute_input": "2020-11-25T06:18:23.242209Z",
     "iopub.status.busy": "2020-11-25T06:18:23.241458Z",
     "iopub.status.idle": "2020-11-25T06:18:23.797188Z",
     "shell.execute_reply": "2020-11-25T06:18:23.796226Z"
    },
    "papermill": {
     "duration": 0.571572,
     "end_time": "2020-11-25T06:18:23.797358",
     "exception": false,
     "start_time": "2020-11-25T06:18:23.225786",
     "status": "completed"
    },
    "tags": []
   },
   "outputs": [
    {
     "name": "stdout",
     "output_type": "stream",
     "text": [
      "[0.59485531 0.56498283 0.64149093]\n"
     ]
    },
    {
     "data": {
      "text/plain": [
       "RidgeClassifier()"
      ]
     },
     "execution_count": 6,
     "metadata": {},
     "output_type": "execute_result"
    }
   ],
   "source": [
    "###INITIALIZE MODEL AND CROSS-VALIDATE SCORE###\n",
    "\n",
    "#Ridge Regression\n",
    "ridgeC = linear_model.RidgeClassifier()\n",
    "scores = model_selection.cross_val_score(ridgeC, train_vectors, train_df[\"target\"], cv=3, scoring=\"f1\")\n",
    "print(scores)\n",
    "ridgeC.fit(train_vectors, train_df[\"target\"])"
   ]
  },
  {
   "cell_type": "code",
   "execution_count": 7,
   "metadata": {
    "execution": {
     "iopub.execute_input": "2020-11-25T06:18:23.836314Z",
     "iopub.status.busy": "2020-11-25T06:18:23.835031Z",
     "iopub.status.idle": "2020-11-25T06:18:24.244185Z",
     "shell.execute_reply": "2020-11-25T06:18:24.243432Z"
    },
    "papermill": {
     "duration": 0.431574,
     "end_time": "2020-11-25T06:18:24.244310",
     "exception": false,
     "start_time": "2020-11-25T06:18:23.812736",
     "status": "completed"
    },
    "tags": []
   },
   "outputs": [],
   "source": [
    "###PREPARE THE SUBMISSION###\n",
    "\n",
    "sample_submission = pd.read_csv(\"/kaggle/input/nlp-getting-started/sample_submission.csv\")\n",
    "sample_submission[\"target\"] = ridgeC.predict(test_vectors)\n",
    "sample_submission.head()\n",
    "sample_submission.to_csv(\"submission.csv\", index=False)"
   ]
  }
 ],
 "metadata": {
  "kernelspec": {
   "display_name": "Python 3",
   "language": "python",
   "name": "python3"
  },
  "language_info": {
   "codemirror_mode": {
    "name": "ipython",
    "version": 3
   },
   "file_extension": ".py",
   "mimetype": "text/x-python",
   "name": "python",
   "nbconvert_exporter": "python",
   "pygments_lexer": "ipython3",
   "version": "3.7.6"
  },
  "papermill": {
   "duration": 9.607912,
   "end_time": "2020-11-25T06:18:25.277664",
   "environment_variables": {},
   "exception": null,
   "input_path": "__notebook__.ipynb",
   "output_path": "__notebook__.ipynb",
   "parameters": {},
   "start_time": "2020-11-25T06:18:15.669752",
   "version": "2.1.0"
  }
 },
 "nbformat": 4,
 "nbformat_minor": 4
}
