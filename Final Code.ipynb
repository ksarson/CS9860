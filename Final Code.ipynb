{
 "cells": [
  {
   "cell_type": "markdown",
   "metadata": {},
   "source": [
    "# **Framing the Problem**\n",
    "\n",
    "Learning Type\n",
    "   - Supervised Learning since our training examples are labelled\n",
    "   \n",
    "Task Type\n",
    "   - Multivariate Binary Classification Task since we are predicting a category ('high_blood_pressure' or 'not high_blood_pressure') based on multiple features\n",
    "    \n",
    "Technique Type\n",
    "   - Batch Learning can be used since there is no constant flow of data coming in\n",
    "   \n",
    "Performance Measure Type\n",
    "   - Given the nature of the datasets and classification task, we will use accuracy as our main scoring metric"
   ]
  },
  {
   "cell_type": "code",
   "execution_count": 1,
   "metadata": {},
   "outputs": [],
   "source": [
    "###IMPORT PACKAGES###\n",
    "\n",
    "import math\n",
    "import numpy as np\n",
    "import pandas as pd\n",
    "import seaborn as sns\n",
    "import pandas_profiling as pdp\n",
    "import statsmodels.api as sm\n",
    "from IPython.display import display\n",
    "from sklearn.impute import SimpleImputer\n",
    "from sklearn.preprocessing import StandardScaler, LabelEncoder\n",
    "from sklearn.naive_bayes import GaussianNB \n",
    "from sklearn.linear_model import Perceptron, LogisticRegression\n",
    "from sklearn.tree import DecisionTreeClassifier\n",
    "from sklearn.neighbors import KNeighborsClassifier\n",
    "from sklearn.ensemble import RandomForestClassifier\n",
    "from sklearn.model_selection import GridSearchCV, cross_val_score, train_test_split\n",
    "from sklearn.metrics import make_scorer, accuracy_score\n",
    "from sklearn.metrics import confusion_matrix, roc_curve, precision_recall_curve, auc\n",
    "import matplotlib.pyplot as plt\n",
    "%matplotlib inline"
   ]
  },
  {
   "cell_type": "code",
   "execution_count": 2,
   "metadata": {},
   "outputs": [],
   "source": [
    "###ANALYZING DATASET###\n",
    "\n",
    "#Get the Dataset\n",
    "df = pd.read_csv('heart_failure_clinical_records_dataset.csv')\n",
    "df = df.drop(['time', 'DEATH_EVENT'], axis=1)\n",
    "\n",
    "#Display Information About our Dataset and its Features\n",
    "#report = pdp.ProfileReport(df)\n",
    "#display(report)"
   ]
  },
  {
   "cell_type": "code",
   "execution_count": 3,
   "metadata": {},
   "outputs": [],
   "source": [
    "###CLEANING AND PREPARING THE TRAINING DATA##\n",
    "\n",
    "#Mute a Warning\n",
    "pd.options.mode.chained_assignment = None  # default='warn'\n",
    "\n",
    "#Create Age Category Variable\n",
    "#df['AgeCat'] = ''\n",
    "#df['AgeCat'].loc[(df['age'] <= 55)] = 'adult'\n",
    "#df['AgeCat'].loc[(df['age'] > 55) & (df['age'] <= 70)] = 'early senior'\n",
    "#df['AgeCat'].loc[(df['age'] > 70)] = 'late senior'\n",
    "#df = df.drop(['age'], axis=1)\n",
    "\n",
    "#Create Ejection Fraction Category Variable\n",
    "df['EF'] = ''\n",
    "df['EF'].loc[(df['ejection_fraction'] <= 30)] = 'low'\n",
    "df['EF'].loc[(df['ejection_fraction'] > 30) & (df['ejection_fraction'] <= 45)] = 'normal'\n",
    "df['EF'].loc[(df['ejection_fraction'] > 45)] = 'high'\n",
    "df = df.drop(['ejection_fraction'], axis=1)\n",
    "\n",
    "#Create Platelets Category Variable\n",
    "df['Plat'] = ''\n",
    "df['Plat'].loc[(df['platelets'] <= 212500)] = 'low'\n",
    "df['Plat'].loc[(df['platelets'] > 212500) & (df['platelets'] <= 303500)] = 'normal'\n",
    "df['Plat'].loc[(df['platelets'] > 303500)] = 'high'\n",
    "df = df.drop(['platelets'], axis=1)\n",
    "\n",
    "#Create Serum Creatinine Category Variable\n",
    "df['SC'] = ''\n",
    "df['SC'].loc[(df['serum_creatinine'] <= 1.5)] = 'normal'\n",
    "df['SC'].loc[(df['serum_creatinine'] > 1.5)] = 'high'\n",
    "df = df.drop(['serum_creatinine'], axis=1)\n",
    "\n",
    "#Create Serum Sodium Category Variable\n",
    "#df['SS'] = ''\n",
    "#df['SS'].loc[(df['serum_sodium'] < 135)] = 'low'\n",
    "#df['SS'].loc[(df['serum_sodium'] >= 135) & (df['serum_sodium'] <= 145)] = 'normal'\n",
    "#df['SS'].loc[(df['serum_sodium'] > 145)] = 'high'\n",
    "#df = df.drop(['serum_sodium'], axis=1)"
   ]
  },
  {
   "cell_type": "code",
   "execution_count": 4,
   "metadata": {},
   "outputs": [
    {
     "name": "stdout",
     "output_type": "stream",
     "text": [
      "['high' 'low' 'normal'] [0, 1, 2]\n",
      "['high' 'low' 'normal'] [0, 1, 2]\n",
      "['high' 'normal'] [0, 1]\n"
     ]
    }
   ],
   "source": [
    "###ENCODING THE DATASET###\n",
    "\n",
    "encoder = LabelEncoder()\n",
    "\n",
    "#Encode AgeCat\n",
    "#AgeCat = df['AgeCat']\n",
    "#AgeCat_encoded = encoder.fit_transform(AgeCat)\n",
    "#df['AgeCat'] = AgeCat_encoded\n",
    "#print(encoder.classes_, '[0, 1, 2]')\n",
    "\n",
    "#Encode CPK\n",
    "#CPK = df['CPK']\n",
    "#CPK_encoded = encoder.fit_transform(CPK)\n",
    "#df['CPK'] = CPK_encoded\n",
    "#print(encoder.classes_, '[0, 1, 2]')\n",
    "\n",
    "#Encode EF\n",
    "EF = df['EF']\n",
    "EF_encoded = encoder.fit_transform(EF)\n",
    "df['EF'] = EF_encoded\n",
    "print(encoder.classes_, '[0, 1, 2]')\n",
    "\n",
    "#Encode Plat\n",
    "Plat = df['Plat']\n",
    "Plat_encoded = encoder.fit_transform(Plat)\n",
    "df['Plat'] = Plat_encoded\n",
    "print(encoder.classes_, '[0, 1, 2]')\n",
    "\n",
    "#Encode SC\n",
    "SC = df['SC']\n",
    "SC_encoded = encoder.fit_transform(SC)\n",
    "df['SC'] = SC_encoded\n",
    "print(encoder.classes_, '[0, 1]')\n",
    "\n",
    "#Encode SS\n",
    "#SS = df['SS']\n",
    "#SS_encoded = encoder.fit_transform(SS)\n",
    "#df['SS'] = SS_encoded\n",
    "#print(encoder.classes_, '[0, 1, 2]')"
   ]
  },
  {
   "cell_type": "code",
   "execution_count": 5,
   "metadata": {},
   "outputs": [],
   "source": [
    "###REPORT AFTER PREPROCESSING###\n",
    "\n",
    "#report2 = pdp.ProfileReport(df)\n",
    "#display(report2)"
   ]
  },
  {
   "cell_type": "code",
   "execution_count": 6,
   "metadata": {},
   "outputs": [],
   "source": [
    "###SPLITTING DATASET INTO TRAIN AND TEST###\n",
    "\n",
    "#Scale Data and Create Data Splits\n",
    "sc = StandardScaler()\n",
    "y = df['high_blood_pressure'].copy()\n",
    "X = df.drop(['high_blood_pressure'], axis=1)\n",
    "X = sc.fit_transform(X)\n",
    "\n",
    "Xtrain, Xtest, ytrain, ytest = train_test_split(X, y, test_size=0.5, random_state=0)"
   ]
  },
  {
   "cell_type": "code",
   "execution_count": 7,
   "metadata": {},
   "outputs": [
    {
     "data": {
      "text/html": [
       "<div>\n",
       "<style scoped>\n",
       "    .dataframe tbody tr th:only-of-type {\n",
       "        vertical-align: middle;\n",
       "    }\n",
       "\n",
       "    .dataframe tbody tr th {\n",
       "        vertical-align: top;\n",
       "    }\n",
       "\n",
       "    .dataframe thead th {\n",
       "        text-align: right;\n",
       "    }\n",
       "</style>\n",
       "<table border=\"1\" class=\"dataframe\">\n",
       "  <thead>\n",
       "    <tr style=\"text-align: right;\">\n",
       "      <th></th>\n",
       "      <th>age</th>\n",
       "      <th>anaemia</th>\n",
       "      <th>creatinine_phosphokinase</th>\n",
       "      <th>diabetes</th>\n",
       "      <th>high_blood_pressure</th>\n",
       "      <th>serum_sodium</th>\n",
       "      <th>sex</th>\n",
       "      <th>smoking</th>\n",
       "      <th>EF</th>\n",
       "      <th>Plat</th>\n",
       "      <th>SC</th>\n",
       "    </tr>\n",
       "  </thead>\n",
       "  <tbody>\n",
       "    <tr>\n",
       "      <th>count</th>\n",
       "      <td>299.000000</td>\n",
       "      <td>299.000000</td>\n",
       "      <td>299.000000</td>\n",
       "      <td>299.000000</td>\n",
       "      <td>299.000000</td>\n",
       "      <td>299.000000</td>\n",
       "      <td>299.000000</td>\n",
       "      <td>299.00000</td>\n",
       "      <td>299.000000</td>\n",
       "      <td>299.000000</td>\n",
       "      <td>299.000000</td>\n",
       "    </tr>\n",
       "    <tr>\n",
       "      <th>mean</th>\n",
       "      <td>60.833893</td>\n",
       "      <td>0.431438</td>\n",
       "      <td>581.839465</td>\n",
       "      <td>0.418060</td>\n",
       "      <td>0.351171</td>\n",
       "      <td>136.625418</td>\n",
       "      <td>0.648829</td>\n",
       "      <td>0.32107</td>\n",
       "      <td>1.287625</td>\n",
       "      <td>1.247492</td>\n",
       "      <td>0.775920</td>\n",
       "    </tr>\n",
       "    <tr>\n",
       "      <th>std</th>\n",
       "      <td>11.894809</td>\n",
       "      <td>0.496107</td>\n",
       "      <td>970.287881</td>\n",
       "      <td>0.494067</td>\n",
       "      <td>0.478136</td>\n",
       "      <td>4.412477</td>\n",
       "      <td>0.478136</td>\n",
       "      <td>0.46767</td>\n",
       "      <td>0.779916</td>\n",
       "      <td>0.830795</td>\n",
       "      <td>0.417674</td>\n",
       "    </tr>\n",
       "    <tr>\n",
       "      <th>min</th>\n",
       "      <td>40.000000</td>\n",
       "      <td>0.000000</td>\n",
       "      <td>23.000000</td>\n",
       "      <td>0.000000</td>\n",
       "      <td>0.000000</td>\n",
       "      <td>113.000000</td>\n",
       "      <td>0.000000</td>\n",
       "      <td>0.00000</td>\n",
       "      <td>0.000000</td>\n",
       "      <td>0.000000</td>\n",
       "      <td>0.000000</td>\n",
       "    </tr>\n",
       "    <tr>\n",
       "      <th>25%</th>\n",
       "      <td>51.000000</td>\n",
       "      <td>0.000000</td>\n",
       "      <td>116.500000</td>\n",
       "      <td>0.000000</td>\n",
       "      <td>0.000000</td>\n",
       "      <td>134.000000</td>\n",
       "      <td>0.000000</td>\n",
       "      <td>0.00000</td>\n",
       "      <td>1.000000</td>\n",
       "      <td>0.500000</td>\n",
       "      <td>1.000000</td>\n",
       "    </tr>\n",
       "    <tr>\n",
       "      <th>50%</th>\n",
       "      <td>60.000000</td>\n",
       "      <td>0.000000</td>\n",
       "      <td>250.000000</td>\n",
       "      <td>0.000000</td>\n",
       "      <td>0.000000</td>\n",
       "      <td>137.000000</td>\n",
       "      <td>1.000000</td>\n",
       "      <td>0.00000</td>\n",
       "      <td>1.000000</td>\n",
       "      <td>1.000000</td>\n",
       "      <td>1.000000</td>\n",
       "    </tr>\n",
       "    <tr>\n",
       "      <th>75%</th>\n",
       "      <td>70.000000</td>\n",
       "      <td>1.000000</td>\n",
       "      <td>582.000000</td>\n",
       "      <td>1.000000</td>\n",
       "      <td>1.000000</td>\n",
       "      <td>140.000000</td>\n",
       "      <td>1.000000</td>\n",
       "      <td>1.00000</td>\n",
       "      <td>2.000000</td>\n",
       "      <td>2.000000</td>\n",
       "      <td>1.000000</td>\n",
       "    </tr>\n",
       "    <tr>\n",
       "      <th>max</th>\n",
       "      <td>95.000000</td>\n",
       "      <td>1.000000</td>\n",
       "      <td>7861.000000</td>\n",
       "      <td>1.000000</td>\n",
       "      <td>1.000000</td>\n",
       "      <td>148.000000</td>\n",
       "      <td>1.000000</td>\n",
       "      <td>1.00000</td>\n",
       "      <td>2.000000</td>\n",
       "      <td>2.000000</td>\n",
       "      <td>1.000000</td>\n",
       "    </tr>\n",
       "  </tbody>\n",
       "</table>\n",
       "</div>"
      ],
      "text/plain": [
       "              age     anaemia  creatinine_phosphokinase    diabetes  \\\n",
       "count  299.000000  299.000000                299.000000  299.000000   \n",
       "mean    60.833893    0.431438                581.839465    0.418060   \n",
       "std     11.894809    0.496107                970.287881    0.494067   \n",
       "min     40.000000    0.000000                 23.000000    0.000000   \n",
       "25%     51.000000    0.000000                116.500000    0.000000   \n",
       "50%     60.000000    0.000000                250.000000    0.000000   \n",
       "75%     70.000000    1.000000                582.000000    1.000000   \n",
       "max     95.000000    1.000000               7861.000000    1.000000   \n",
       "\n",
       "       high_blood_pressure  serum_sodium         sex    smoking          EF  \\\n",
       "count           299.000000    299.000000  299.000000  299.00000  299.000000   \n",
       "mean              0.351171    136.625418    0.648829    0.32107    1.287625   \n",
       "std               0.478136      4.412477    0.478136    0.46767    0.779916   \n",
       "min               0.000000    113.000000    0.000000    0.00000    0.000000   \n",
       "25%               0.000000    134.000000    0.000000    0.00000    1.000000   \n",
       "50%               0.000000    137.000000    1.000000    0.00000    1.000000   \n",
       "75%               1.000000    140.000000    1.000000    1.00000    2.000000   \n",
       "max               1.000000    148.000000    1.000000    1.00000    2.000000   \n",
       "\n",
       "             Plat          SC  \n",
       "count  299.000000  299.000000  \n",
       "mean     1.247492    0.775920  \n",
       "std      0.830795    0.417674  \n",
       "min      0.000000    0.000000  \n",
       "25%      0.500000    1.000000  \n",
       "50%      1.000000    1.000000  \n",
       "75%      2.000000    1.000000  \n",
       "max      2.000000    1.000000  "
      ]
     },
     "execution_count": 7,
     "metadata": {},
     "output_type": "execute_result"
    }
   ],
   "source": [
    "###SUMMARIZE THE DATA###\n",
    "\n",
    "df.describe() "
   ]
  },
  {
   "cell_type": "code",
   "execution_count": 8,
   "metadata": {},
   "outputs": [
    {
     "name": "stdout",
     "output_type": "stream",
     "text": [
      "age                          11.894809\n",
      "anaemia                       0.496107\n",
      "creatinine_phosphokinase    970.287881\n",
      "diabetes                      0.494067\n",
      "high_blood_pressure           0.478136\n",
      "serum_sodium                  4.412477\n",
      "sex                           0.478136\n",
      "smoking                       0.467670\n",
      "EF                            0.779916\n",
      "Plat                          0.830795\n",
      "SC                            0.417674\n",
      "dtype: float64\n"
     ]
    },
    {
     "data": {
      "image/png": "[encoded data removed]",
      "text/plain": [
       "<Figure size 432x288 with 12 Axes>"
      ]
     },
     "metadata": {
      "needs_background": "light"
     },
     "output_type": "display_data"
    }
   ],
   "source": [
    "###EXTRACT AND PLOT THE STANDARD DEVIATIONS###\n",
    "\n",
    "print(df.std())\n",
    "df.hist()\n",
    "plt.show()"
   ]
  },
  {
   "cell_type": "code",
   "execution_count": 9,
   "metadata": {},
   "outputs": [
    {
     "name": "stdout",
     "output_type": "stream",
     "text": [
      "[1 1 0 1 1 1 0 1 0 1 1 1 1 0 1 1 0 1 0 1 0 0 0 0 0 1 0 1 1 0 1 1 1 1 1 0 0\n",
      " 1 0 0 1 1 1 1 0 0 1 1 1 0 1 1 1 1 1 0 1 0 0 0 0 1 0 1 0 1 0 1 1 0 1 1 1 1\n",
      " 0 0 1 1 1 1 1 1 1 1 0 1 1 1 1 1 0 1 1 1 1 1 1 0 1 1 0 0 0 0 1 0 1 1 1 0 1\n",
      " 1 1 0 0 0 0 1 1 0 0 1 0 0 1 1 1 0 1 0 1 1 0 1 0 1 1 1 0 0 1 0 0 0 1 1 0 0\n",
      " 0 1]\n",
      "Gaussian Naive Bayes Score:  0.48 \n",
      "\n",
      "\n",
      "Gaussian NB Best Features:  {'var_smoothing': 1e-09} \n",
      "\n",
      "[1 1 0 1 1 1 0 1 0 1 1 1 1 0 1 1 0 1 0 1 0 0 0 0 0 1 0 1 1 0 1 1 1 1 1 0 0\n",
      " 1 0 0 1 1 1 1 0 0 1 1 1 0 1 1 1 1 1 0 1 0 0 0 0 1 0 1 0 1 0 1 1 0 1 1 1 1\n",
      " 0 0 1 1 1 1 1 1 1 1 0 1 1 1 1 1 0 1 1 1 1 1 1 0 1 1 0 0 0 0 1 0 1 1 1 0 1\n",
      " 1 1 0 0 0 0 1 1 0 0 1 0 0 1 1 1 0 1 0 1 1 0 1 0 1 1 1 0 0 1 0 0 0 1 1 0 0\n",
      " 0 1]\n",
      "Gaussian Naive Bayes Score:  0.48\n",
      "Gaussian Naive Bayes CV Score:  0.56\n"
     ]
    },
    {
     "data": {
      "image/png": "[encoded data removed]",
      "text/plain": [
       "<Figure size 432x288 with 1 Axes>"
      ]
     },
     "metadata": {
      "needs_background": "light"
     },
     "output_type": "display_data"
    }
   ],
   "source": [
    "###NAIVE BAYES###\n",
    "\n",
    "#Default Parameters\n",
    "gnb = GaussianNB()\n",
    "gnb.fit(Xtrain, ytrain)\n",
    "gnbPred = gnb.predict(Xtest)\n",
    "print(gnbPred) \n",
    "gnbScore = round(accuracy_score(ytest, gnbPred), 2)\n",
    "print('Gaussian Naive Bayes Score: ', gnbScore, '\\n\\n')\n",
    "\n",
    "#Grid Search for Best Parameters\n",
    "params = {'var_smoothing': [1e-9, 1e-8, 1e-7, 1e-6, 1e-5, 1e-4]}\n",
    "gnbGrid = GaussianNB()\n",
    "gridSearch = GridSearchCV(estimator=gnbGrid, param_grid=params, cv=5, scoring='accuracy')\n",
    "gridSearch.fit(Xtrain, ytrain)\n",
    "print('Gaussian NB Best Features: ', gridSearch.best_params_, '\\n')\n",
    "\n",
    "#Best Parameters\n",
    "gnb = GaussianNB(var_smoothing=1e-9)\n",
    "gnb.fit(Xtrain, ytrain)\n",
    "gnbPred = gnb.predict(Xtest)\n",
    "print(gnbPred) \n",
    "gnbScore = round(accuracy_score(ytest, gnbPred), 2)\n",
    "print('Gaussian Naive Bayes Score: ', gnbScore)\n",
    "gnb_cv_score = cross_val_score(gnb, Xtrain, ytrain, cv = 5)\n",
    "print('Gaussian Naive Bayes CV Score: ', round(gnb_cv_score.mean(), 2))\n",
    "      \n",
    "#ROC for Amount-Only Classifier\n",
    "fpr, tpr, _ = roc_curve(ytest, gnbPred)\n",
    "ax = sns.lineplot(fpr, tpr)"
   ]
  },
  {
   "cell_type": "code",
   "execution_count": 10,
   "metadata": {},
   "outputs": [
    {
     "name": "stdout",
     "output_type": "stream",
     "text": [
      "[1 1 0 1 0 1 0 1 0 0 1 0 0 1 0 0 0 0 0 0 0 0 0 0 0 0 0 1 0 0 1 0 1 0 1 0 0\n",
      " 0 0 0 1 1 0 0 0 0 0 1 0 0 0 0 1 0 0 1 0 1 0 0 0 0 1 0 0 0 1 0 1 0 1 0 0 0\n",
      " 0 0 1 1 1 0 1 0 1 0 0 1 0 0 0 1 0 1 0 1 0 0 0 0 0 1 0 0 0 0 0 0 0 0 1 0 1\n",
      " 0 0 0 0 0 0 1 0 0 0 0 0 0 0 0 0 0 0 1 0 0 0 0 0 0 1 0 0 0 0 0 0 0 0 1 0 0\n",
      " 0 1]\n",
      "Perceptron Score:  0.63 \n",
      "\n",
      "\n",
      "Perceptron Best Features:  {'max_iter': 500, 'penalty': 'l2', 'random_state': 0} \n",
      "\n",
      "[0 0 0 0 1 0 0 0 0 0 1 1 0 0 0 0 0 0 0 0 1 0 0 0 0 0 0 1 0 0 0 0 0 0 0 0 0\n",
      " 0 0 0 0 0 0 0 1 0 0 0 0 0 0 1 0 0 0 1 0 1 0 0 0 0 0 0 0 0 1 0 0 0 0 0 1 0\n",
      " 0 0 0 0 1 1 0 1 0 0 0 0 0 0 1 1 0 0 0 0 0 0 1 0 0 0 0 0 0 0 0 0 0 1 0 0 0\n",
      " 0 0 0 0 0 0 1 0 0 0 0 1 0 0 0 0 0 0 1 0 0 0 0 0 0 0 0 0 0 0 0 0 0 0 0 0 0\n",
      " 0 1]\n",
      "Perceptron Score:  0.63\n",
      "Perceptron CV Score:  0.54\n"
     ]
    },
    {
     "data": {
      "image/png": "[encoded data removed]",
      "text/plain": [
       "<Figure size 432x288 with 1 Axes>"
      ]
     },
     "metadata": {
      "needs_background": "light"
     },
     "output_type": "display_data"
    }
   ],
   "source": [
    "###PERCEPTRON###\n",
    "\n",
    "#Default Parameters\n",
    "percep = Perceptron()\n",
    "percep.fit(Xtrain, ytrain)\n",
    "percepPred = percep.predict(Xtest)\n",
    "print(percepPred) \n",
    "percepScore = round(accuracy_score(ytest, percepPred), 2)\n",
    "print('Perceptron Score: ', percepScore, '\\n\\n')\n",
    "\n",
    "#Grid Search for Best Parameters\n",
    "params = {'random_state': [0],\n",
    "          'penalty': ['l1', 'l2', 'elasticnet'],\n",
    "          'max_iter': range(500, 1500, 50)}\n",
    "percepGrid = Perceptron()\n",
    "gridSearch = GridSearchCV(estimator=percepGrid, param_grid=params, cv=5, scoring='accuracy')\n",
    "gridSearch.fit(Xtrain, ytrain)\n",
    "print('Perceptron Best Features: ', gridSearch.best_params_, '\\n')\n",
    "\n",
    "#Best Parameters\n",
    "percep = Perceptron(max_iter=500, penalty='l2', random_state=0)\n",
    "percep.fit(Xtrain, ytrain)\n",
    "percepPred = percep.predict(Xtest)\n",
    "print(percepPred) \n",
    "percepScore = round(accuracy_score(ytest, percepPred), 2)\n",
    "print('Perceptron Score: ', percepScore)\n",
    "percep_cv_score = cross_val_score(percep, Xtrain, ytrain, cv = 5)\n",
    "print('Perceptron CV Score: ', round(percep_cv_score.mean(), 2))\n",
    "\n",
    "#ROC for Amount-Only Classifier\n",
    "fpr, tpr, _ = roc_curve(ytest, percepPred)\n",
    "ax = sns.lineplot(fpr, tpr)"
   ]
  },
  {
   "cell_type": "code",
   "execution_count": 11,
   "metadata": {},
   "outputs": [
    {
     "name": "stdout",
     "output_type": "stream",
     "text": [
      "[0 1 0 0 1 0 1 1 0 0 1 1 0 0 1 0 0 0 0 0 1 0 0 0 1 0 1 0 0 1 0 0 0 1 0 0 0\n",
      " 0 0 0 1 0 1 0 0 1 1 0 0 0 1 0 1 0 0 0 0 0 0 1 0 0 0 0 1 0 0 0 1 1 0 0 1 0\n",
      " 1 0 1 0 1 1 0 1 0 1 1 1 0 0 1 1 0 1 0 0 0 0 1 0 0 1 0 0 1 0 1 1 1 0 0 0 0\n",
      " 0 1 1 0 0 0 1 0 0 1 0 0 1 1 1 0 0 0 0 0 0 0 1 1 1 0 1 0 0 0 0 1 0 1 0 1 0\n",
      " 0 0]\n",
      "Decision Tree Score:  0.57 \n",
      "\n",
      "\n",
      "Decision Tree Best Features:  {'criterion': 'entropy', 'max_features': 2, 'random_state': 0, 'splitter': 'best'} \n",
      "\n",
      "[0 0 1 0 0 0 1 0 0 0 1 0 1 0 0 1 0 0 1 0 0 0 0 0 1 1 0 0 0 0 0 0 0 1 0 0 0\n",
      " 1 1 1 0 1 0 1 0 0 0 1 1 1 0 0 1 0 1 1 0 0 0 0 0 0 0 0 0 0 0 0 0 0 0 0 0 0\n",
      " 0 0 0 0 0 1 0 1 1 1 1 1 0 0 1 0 1 0 1 0 1 1 1 1 1 0 1 0 1 0 1 1 0 1 1 0 0\n",
      " 0 1 1 0 0 0 0 1 0 0 1 1 1 1 0 1 1 0 0 1 1 1 1 0 0 0 1 1 0 1 1 1 0 1 0 0 0\n",
      " 0 0]\n",
      "Decision Tree Score:  0.57\n",
      "Decision Tree CV Score:  0.59\n"
     ]
    },
    {
     "data": {
      "image/png": "[encoded data removed]",
      "text/plain": [
       "<Figure size 432x288 with 1 Axes>"
      ]
     },
     "metadata": {
      "needs_background": "light"
     },
     "output_type": "display_data"
    }
   ],
   "source": [
    "###DECISION TREE###\n",
    "\n",
    "dt = DecisionTreeClassifier()\n",
    "dt.fit(Xtrain, ytrain)\n",
    "dtPred = dt.predict(Xtest)\n",
    "print(dtPred) \n",
    "dtScore = round(accuracy_score(ytest, dtPred), 2)\n",
    "print('Decision Tree Score: ', dtScore, '\\n\\n')\n",
    "\n",
    "#Grid Search for Best Parameters\n",
    "params = {'random_state': [0],\n",
    "          'criterion': ['gini', 'entropy'],\n",
    "          'splitter':  ['best', 'random'],\n",
    "          'max_features': [2, 4, 6, 8]}\n",
    "dtGrid = DecisionTreeClassifier()\n",
    "gridSearch = GridSearchCV(estimator=dtGrid, param_grid=params, cv=5, scoring='accuracy')\n",
    "gridSearch.fit(Xtrain, ytrain)\n",
    "print('Decision Tree Best Features: ', gridSearch.best_params_, '\\n')\n",
    "\n",
    "#Best Parameters\n",
    "dt = DecisionTreeClassifier(criterion='entropy', max_features=2, random_state=0, splitter='best')\n",
    "dt.fit(Xtrain, ytrain)\n",
    "dtPred = dt.predict(Xtest)\n",
    "print(dtPred) \n",
    "dtScore = round(accuracy_score(ytest, dtPred), 2)\n",
    "print('Decision Tree Score: ', dtScore)\n",
    "dt_cv_score = cross_val_score(dt, Xtrain, ytrain, cv = 5)\n",
    "print('Decision Tree CV Score: ', round(dt_cv_score.mean(), 2))\n",
    "\n",
    "#ROC for Amount-Only Classifier\n",
    "fpr, tpr, _ = roc_curve(ytest, dtPred)\n",
    "ax = sns.lineplot(fpr, tpr)"
   ]
  },
  {
   "cell_type": "code",
   "execution_count": 12,
   "metadata": {},
   "outputs": [
    {
     "name": "stdout",
     "output_type": "stream",
     "text": [
      "[0 0 0 0 0 1 0 0 0 0 1 1 0 0 0 1 0 0 0 0 0 0 0 0 0 1 0 0 0 0 1 0 1 0 0 0 0\n",
      " 0 0 0 1 0 1 0 0 0 0 1 1 0 1 0 0 0 0 0 0 1 0 0 0 0 0 0 0 0 1 0 1 0 0 1 1 0\n",
      " 0 0 1 1 1 0 1 0 0 1 0 1 1 0 1 1 0 0 0 0 0 0 0 0 0 1 0 0 0 0 0 1 0 0 1 0 0\n",
      " 0 0 0 0 0 0 0 1 0 1 0 0 0 0 0 1 0 0 0 0 1 0 0 0 0 0 0 0 0 0 0 0 0 0 1 0 0\n",
      " 0 1]\n",
      "Logistic Regresion Score:  0.59 \n",
      "\n",
      "\n",
      "Logistic Regression Best Features:  {'max_iter': 500, 'penalty': 'l2', 'random_state': 0} \n",
      "\n",
      "[0 0 0 0 0 1 0 0 0 0 1 1 0 0 0 1 0 0 0 0 0 0 0 0 0 1 0 0 0 0 1 0 1 0 0 0 0\n",
      " 0 0 0 1 0 1 0 0 0 0 1 1 0 1 0 0 0 0 0 0 1 0 0 0 0 0 0 0 0 1 0 1 0 0 1 1 0\n",
      " 0 0 1 1 1 0 1 0 0 1 0 1 1 0 1 1 0 0 0 0 0 0 0 0 0 1 0 0 0 0 0 1 0 0 1 0 0\n",
      " 0 0 0 0 0 0 0 1 0 1 0 0 0 0 0 1 0 0 0 0 1 0 0 0 0 0 0 0 0 0 0 0 0 0 1 0 0\n",
      " 0 1]\n",
      "Logistic Regresion Score:  0.59\n",
      "Logistic Regression CV Score:  0.56\n"
     ]
    },
    {
     "data": {
      "image/png": "[encoded data removed]",
      "text/plain": [
       "<Figure size 432x288 with 1 Axes>"
      ]
     },
     "metadata": {
      "needs_background": "light"
     },
     "output_type": "display_data"
    }
   ],
   "source": [
    "###LOGISTIC REGRESSION###\n",
    "\n",
    "#Default Parameters\n",
    "logReg = LogisticRegression()\n",
    "logReg.fit(Xtrain, ytrain)\n",
    "logRegPred = logReg.predict(Xtest)\n",
    "print(logRegPred) \n",
    "logRegScore = round(accuracy_score(ytest, logRegPred), 2)\n",
    "print('Logistic Regresion Score: ', logRegScore, '\\n\\n')\n",
    "\n",
    "#Grid Search for Best Parameters\n",
    "params = {'random_state': [0],\n",
    "          'penalty': ['l2', 'none'],\n",
    "          'max_iter': range(500, 1500, 50)}\n",
    "logRegGrid = LogisticRegression()\n",
    "gridSearch = GridSearchCV(estimator=logRegGrid, param_grid=params, cv=5, scoring='accuracy')\n",
    "gridSearch.fit(Xtrain, ytrain)\n",
    "print('Logistic Regression Best Features: ', gridSearch.best_params_, '\\n')\n",
    "\n",
    "#Best Parameters\n",
    "logReg = LogisticRegression(max_iter=500, penalty='l2', random_state=0)\n",
    "logReg.fit(Xtrain, ytrain)\n",
    "logRegPred = logReg.predict(Xtest)\n",
    "print(logRegPred) \n",
    "logRegScore = round(accuracy_score(ytest, logRegPred), 2)\n",
    "print('Logistic Regresion Score: ', logRegScore)\n",
    "logReg_cv_score = cross_val_score(logReg, Xtrain, ytrain, cv = 5)\n",
    "print('Logistic Regression CV Score: ', round(logReg_cv_score.mean(), 2))\n",
    "\n",
    "#ROC for Amount-Only Classifier\n",
    "fpr, tpr, _ = roc_curve(ytest, logRegPred)\n",
    "ax = sns.lineplot(fpr, tpr)"
   ]
  },
  {
   "cell_type": "code",
   "execution_count": 13,
   "metadata": {},
   "outputs": [
    {
     "name": "stdout",
     "output_type": "stream",
     "text": [
      "[0 1 1 1 1 1 0 1 0 0 1 0 0 0 0 0 1 1 0 0 0 0 0 0 0 1 0 0 1 0 0 0 0 0 0 0 0\n",
      " 1 0 1 1 1 1 1 0 0 0 0 0 1 1 1 1 1 1 0 0 0 0 0 0 1 0 0 0 0 0 0 0 0 1 0 0 1\n",
      " 1 0 1 0 0 0 1 0 0 0 1 0 0 0 0 0 0 1 1 0 0 0 0 0 0 1 0 0 0 1 1 1 0 0 0 0 0\n",
      " 0 0 0 0 0 0 1 0 0 1 0 0 0 0 1 1 1 0 0 0 1 0 0 0 0 1 0 1 0 0 0 0 0 0 0 0 0\n",
      " 0 1]\n",
      "K Nearest Neighbours Score:  0.59 \n",
      "\n",
      "\n",
      "K Nearest Neighbours Best Features:  {'metric': 'chebyshev', 'n_neighbors': 16, 'weights': 'uniform'} \n",
      "\n",
      "[0 1 0 1 1 0 0 1 0 0 1 0 0 0 0 0 0 0 0 0 0 0 0 0 0 0 0 0 0 0 0 0 0 0 0 0 0\n",
      " 0 0 0 0 0 1 0 0 1 0 0 0 0 1 0 0 0 0 0 0 0 0 0 0 0 0 0 0 0 0 0 0 0 0 0 0 0\n",
      " 0 0 0 0 0 0 0 0 0 0 1 1 0 0 0 0 0 1 0 0 0 0 0 0 0 0 0 0 0 0 0 0 0 0 0 0 0\n",
      " 0 0 0 0 0 0 1 0 0 1 0 0 0 0 0 0 0 0 0 0 1 0 0 0 0 0 0 0 0 0 0 0 0 0 0 0 0\n",
      " 0 1]\n",
      "K Nearest Neigbors Score:  0.66\n",
      "K Nearest Neigbors CV Score:  0.68\n"
     ]
    },
    {
     "data": {
      "image/png": "[encoded data removed]",
      "text/plain": [
       "<Figure size 432x288 with 1 Axes>"
      ]
     },
     "metadata": {
      "needs_background": "light"
     },
     "output_type": "display_data"
    }
   ],
   "source": [
    "###K NEAREST NEIGHBOURS###\n",
    "\n",
    "#Default Parameters\n",
    "knn = KNeighborsClassifier()\n",
    "knn.fit(Xtrain, ytrain)\n",
    "knnPred = knn.predict(Xtest)\n",
    "print(knnPred)\n",
    "knnScore = round(accuracy_score(ytest, knnPred), 2)\n",
    "print('K Nearest Neighbours Score: ', knnScore, '\\n\\n')\n",
    "\n",
    "#Grid Search for Best Parameters\n",
    "params = {'n_neighbors': range(3,25),\n",
    "          'metric': ['euclidean', 'manhattan', 'chebyshev', 'minkowski'],\n",
    "         'weights': ['uniform', 'distance']}\n",
    "knnGrid = KNeighborsClassifier()\n",
    "gridSearch = GridSearchCV(estimator=knnGrid, param_grid=params, cv=5, scoring='accuracy')\n",
    "gridSearch.fit(Xtrain, ytrain)\n",
    "print('K Nearest Neighbours Best Features: ', gridSearch.best_params_, '\\n')\n",
    "\n",
    "#Best Parameters\n",
    "knn = KNeighborsClassifier(metric='chebyshev', n_neighbors=16, weights='uniform')\n",
    "knn.fit(Xtrain, ytrain)\n",
    "knnPred = knn.predict(Xtest)\n",
    "print(knnPred) \n",
    "knnScore = round(accuracy_score(ytest, knnPred), 2)\n",
    "print('K Nearest Neigbors Score: ', knnScore)\n",
    "knn_cv_score = cross_val_score(knn, Xtrain, ytrain, cv = 5)\n",
    "print('K Nearest Neigbors CV Score: ', round(knn_cv_score.mean(), 2))\n",
    "\n",
    "#ROC for Amount-Only Classifier\n",
    "fpr, tpr, _ = roc_curve(ytest, knnPred)\n",
    "ax = sns.lineplot(fpr, tpr)"
   ]
  },
  {
   "cell_type": "code",
   "execution_count": 22,
   "metadata": {},
   "outputs": [
    {
     "name": "stdout",
     "output_type": "stream",
     "text": [
      "[0 0 0 0 1 0 0 0 0 0 1 0 1 0 1 1 0 1 0 0 1 0 0 0 1 1 0 0 1 1 0 0 0 1 0 0 1\n",
      " 0 0 0 1 0 0 0 0 0 0 0 1 0 0 1 0 0 0 0 0 0 0 1 0 1 0 0 0 0 0 0 0 0 0 1 1 1\n",
      " 1 0 0 1 0 0 0 1 0 0 0 1 1 1 1 0 1 1 0 0 1 0 0 0 1 1 1 0 0 0 1 0 0 0 0 0 0\n",
      " 1 0 1 0 0 0 0 0 0 0 0 0 1 1 0 1 0 0 0 0 0 0 0 0 1 0 0 1 0 0 0 1 0 1 0 1 0\n",
      " 0 1]\n",
      "Random Forest Score:  0.59 \n",
      "\n",
      "\n",
      "Random Forest Best Features:  {'criterion': 'entropy', 'max_depth': 2, 'n_estimators': 50, 'random_state': 0} \n",
      "\n",
      "[0 0 0 0 0 0 0 0 0 0 0 0 0 0 0 0 0 0 0 0 0 0 0 0 0 0 0 0 0 0 0 0 0 0 0 0 0\n",
      " 0 0 0 0 0 0 0 0 0 0 0 0 0 0 0 0 0 0 0 0 0 0 0 0 0 0 0 0 0 0 0 0 0 0 0 0 0\n",
      " 0 0 0 0 0 0 0 0 0 0 0 0 0 0 0 0 0 0 0 0 0 0 0 0 0 0 0 0 0 0 0 0 0 0 0 0 0\n",
      " 0 0 0 0 0 0 0 0 0 0 0 0 0 0 0 0 0 0 0 0 0 0 0 0 0 0 0 0 0 0 0 0 0 0 0 0 0\n",
      " 0 0]\n",
      "Random Forest Score:  0.68\n",
      "Random Forest CV Score:  0.62\n"
     ]
    },
    {
     "data": {
      "image/png": "[encoded data removed]",
      "text/plain": [
       "<Figure size 432x288 with 1 Axes>"
      ]
     },
     "metadata": {
      "needs_background": "light"
     },
     "output_type": "display_data"
    }
   ],
   "source": [
    "###RANDOM FOREST###\n",
    "\n",
    "#Default Parameters\n",
    "rf = RandomForestClassifier()\n",
    "rf.fit(Xtrain, ytrain)\n",
    "rfPred = rf.predict(Xtest)\n",
    "print(rfPred)\n",
    "rfScore = round(accuracy_score(ytest, rfPred), 2)\n",
    "print('Random Forest Score: ', rfScore, '\\n\\n')\n",
    "\n",
    "#Grid Search for Best Parameters\n",
    "params = {'n_estimators': range(50, 150, 50),\n",
    "          'criterion': ['gini', 'entropy'],\n",
    "         'max_depth': [2, 3, 4, 5, 1000],\n",
    "         'random_state': [0]}\n",
    "rfGrid = RandomForestClassifier()\n",
    "gridSearch = GridSearchCV(estimator=rfGrid, param_grid=params, cv=5, scoring='accuracy')\n",
    "gridSearch.fit(Xtrain, ytrain)\n",
    "print('Random Forest Best Features: ', gridSearch.best_params_, '\\n')\n",
    "\n",
    "#Best Parameters\n",
    "rf = RandomForestClassifier(criterion='gini', max_depth=2, n_estimators=50, random_state=0)\n",
    "rf.fit(Xtrain, ytrain)\n",
    "rfPred = rf.predict(Xtest)\n",
    "print(rfPred) \n",
    "rfScore = round(accuracy_score(ytest, rfPred), 2)\n",
    "print('Random Forest Score: ', rfScore)\n",
    "rf_cv_score = cross_val_score(rf, Xtrain, ytrain, cv = 5)\n",
    "print('Random Forest CV Score: ', round(rf_cv_score.mean(), 2))\n",
    "\n",
    "#ROC for Amount-Only Classifier\n",
    "fpr, tpr, _ = roc_curve(ytest, rfPred)\n",
    "ax = sns.lineplot(fpr, tpr)"
   ]
  },
  {
   "cell_type": "code",
   "execution_count": 15,
   "metadata": {},
   "outputs": [
    {
     "data": {
      "image/png": "[encoded data removed]",
      "text/plain": [
       "<Figure size 432x288 with 1 Axes>"
      ]
     },
     "metadata": {
      "needs_background": "light"
     },
     "output_type": "display_data"
    }
   ],
   "source": [
    "###GRAPH ACCURACIES OF MODELS##\n",
    "\n",
    "Data = {'method': ['Gaussian ','Perceptron ','Tree ','Logistic ','Forest  ','KNN '],\n",
    "        'score': [gnbScore,percepScore,dtScore,logRegScore,rfScore,knnScore]\n",
    "       }\n",
    "dfScores = pd.DataFrame(Data,columns=['method','score'])\n",
    "dfScores.plot(x ='method', y='score', kind = 'bar')\n",
    "plt.show()"
   ]
  },
  {
   "cell_type": "markdown",
   "metadata": {},
   "source": [
    "Dig on using logistic regression"
   ]
  },
  {
   "cell_type": "code",
   "execution_count": 16,
   "metadata": {},
   "outputs": [
    {
     "name": "stdout",
     "output_type": "stream",
     "text": [
      "Optimization terminated successfully.\n",
      "         Current function value: 0.655360\n",
      "         Iterations 5\n"
     ]
    },
    {
     "data": {
      "text/html": [
       "<table class=\"simpletable\">\n",
       "<caption>Logit Regression Results</caption>\n",
       "<tr>\n",
       "  <th>Dep. Variable:</th>   <td>high_blood_pressure</td> <th>  No. Observations:  </th>  <td>   149</td> \n",
       "</tr>\n",
       "<tr>\n",
       "  <th>Model:</th>                  <td>Logit</td>        <th>  Df Residuals:      </th>  <td>   139</td> \n",
       "</tr>\n",
       "<tr>\n",
       "  <th>Method:</th>                  <td>MLE</td>         <th>  Df Model:          </th>  <td>     9</td> \n",
       "</tr>\n",
       "<tr>\n",
       "  <th>Date:</th>             <td>Fri, 27 Nov 2020</td>   <th>  Pseudo R-squ.:     </th>  <td>0.01494</td>\n",
       "</tr>\n",
       "<tr>\n",
       "  <th>Time:</th>                 <td>03:42:23</td>       <th>  Log-Likelihood:    </th> <td> -97.649</td>\n",
       "</tr>\n",
       "<tr>\n",
       "  <th>converged:</th>              <td>True</td>         <th>  LL-Null:           </th> <td> -99.130</td>\n",
       "</tr>\n",
       "<tr>\n",
       "  <th>Covariance Type:</th>      <td>nonrobust</td>      <th>  LLR p-value:       </th>  <td>0.9658</td> \n",
       "</tr>\n",
       "</table>\n",
       "<table class=\"simpletable\">\n",
       "<tr>\n",
       "   <td></td>      <th>coef</th>     <th>std err</th>      <th>z</th>      <th>P>|z|</th>  <th>[0.025</th>    <th>0.975]</th>  \n",
       "</tr>\n",
       "<tr>\n",
       "  <th>x1</th>  <td>    0.1834</td> <td>    0.191</td> <td>    0.963</td> <td> 0.336</td> <td>   -0.190</td> <td>    0.557</td>\n",
       "</tr>\n",
       "<tr>\n",
       "  <th>x2</th>  <td>   -0.0510</td> <td>    0.177</td> <td>   -0.287</td> <td> 0.774</td> <td>   -0.399</td> <td>    0.297</td>\n",
       "</tr>\n",
       "<tr>\n",
       "  <th>x3</th>  <td>   -0.2581</td> <td>    0.211</td> <td>   -1.221</td> <td> 0.222</td> <td>   -0.672</td> <td>    0.156</td>\n",
       "</tr>\n",
       "<tr>\n",
       "  <th>x4</th>  <td>   -0.1131</td> <td>    0.178</td> <td>   -0.636</td> <td> 0.525</td> <td>   -0.461</td> <td>    0.235</td>\n",
       "</tr>\n",
       "<tr>\n",
       "  <th>x5</th>  <td>   -0.1616</td> <td>    0.173</td> <td>   -0.935</td> <td> 0.350</td> <td>   -0.500</td> <td>    0.177</td>\n",
       "</tr>\n",
       "<tr>\n",
       "  <th>x6</th>  <td>   -0.3015</td> <td>    0.193</td> <td>   -1.558</td> <td> 0.119</td> <td>   -0.681</td> <td>    0.078</td>\n",
       "</tr>\n",
       "<tr>\n",
       "  <th>x7</th>  <td>    0.2347</td> <td>    0.198</td> <td>    1.186</td> <td> 0.236</td> <td>   -0.153</td> <td>    0.623</td>\n",
       "</tr>\n",
       "<tr>\n",
       "  <th>x8</th>  <td>   -0.2113</td> <td>    0.174</td> <td>   -1.216</td> <td> 0.224</td> <td>   -0.552</td> <td>    0.129</td>\n",
       "</tr>\n",
       "<tr>\n",
       "  <th>x9</th>  <td>   -0.0498</td> <td>    0.173</td> <td>   -0.288</td> <td> 0.774</td> <td>   -0.389</td> <td>    0.289</td>\n",
       "</tr>\n",
       "<tr>\n",
       "  <th>x10</th> <td>    0.3798</td> <td>    0.187</td> <td>    2.026</td> <td> 0.043</td> <td>    0.012</td> <td>    0.747</td>\n",
       "</tr>\n",
       "</table>"
      ],
      "text/plain": [
       "<class 'statsmodels.iolib.summary.Summary'>\n",
       "\"\"\"\n",
       "                            Logit Regression Results                           \n",
       "===============================================================================\n",
       "Dep. Variable:     high_blood_pressure   No. Observations:                  149\n",
       "Model:                           Logit   Df Residuals:                      139\n",
       "Method:                            MLE   Df Model:                            9\n",
       "Date:                 Fri, 27 Nov 2020   Pseudo R-squ.:                 0.01494\n",
       "Time:                         03:42:23   Log-Likelihood:                -97.649\n",
       "converged:                        True   LL-Null:                       -99.130\n",
       "Covariance Type:             nonrobust   LLR p-value:                    0.9658\n",
       "==============================================================================\n",
       "                 coef    std err          z      P>|z|      [0.025      0.975]\n",
       "------------------------------------------------------------------------------\n",
       "x1             0.1834      0.191      0.963      0.336      -0.190       0.557\n",
       "x2            -0.0510      0.177     -0.287      0.774      -0.399       0.297\n",
       "x3            -0.2581      0.211     -1.221      0.222      -0.672       0.156\n",
       "x4            -0.1131      0.178     -0.636      0.525      -0.461       0.235\n",
       "x5            -0.1616      0.173     -0.935      0.350      -0.500       0.177\n",
       "x6            -0.3015      0.193     -1.558      0.119      -0.681       0.078\n",
       "x7             0.2347      0.198      1.186      0.236      -0.153       0.623\n",
       "x8            -0.2113      0.174     -1.216      0.224      -0.552       0.129\n",
       "x9            -0.0498      0.173     -0.288      0.774      -0.389       0.289\n",
       "x10            0.3798      0.187      2.026      0.043       0.012       0.747\n",
       "==============================================================================\n",
       "\"\"\""
      ]
     },
     "execution_count": 16,
     "metadata": {},
     "output_type": "execute_result"
    }
   ],
   "source": [
    "###DEEPER INVESTIGATION OF DATA FOR LOGISTIC REGRESSION###\n",
    "\n",
    "data = dfScores\n",
    "train_cols = data.columns[1:]\n",
    "logit = sm.Logit(ytrain, Xtrain)\n",
    "result = logit.fit()\n",
    "result.summary()"
   ]
  },
  {
   "cell_type": "code",
   "execution_count": 17,
   "metadata": {},
   "outputs": [
    {
     "name": "stdout",
     "output_type": "stream",
     "text": [
      "            0         1\n",
      "x1  -0.190072  0.556970\n",
      "x2  -0.398532  0.296581\n",
      "x3  -0.672455  0.156227\n",
      "x4  -0.461428  0.235316\n",
      "x5  -0.500311  0.177139\n",
      "x6  -0.680734  0.077753\n",
      "x7  -0.153202  0.622550\n",
      "x8  -0.551847  0.129233\n",
      "x9  -0.389102  0.289476\n",
      "x10  0.012322  0.747303\n"
     ]
    }
   ],
   "source": [
    "###95% CONFIDENCE INTERVAL###\n",
    "\n",
    "ci = result.conf_int()\n",
    "print(ci)"
   ]
  },
  {
   "cell_type": "code",
   "execution_count": 18,
   "metadata": {},
   "outputs": [
    {
     "data": {
      "text/plain": [
       "<matplotlib.axes._subplots.AxesSubplot at 0x165de602100>"
      ]
     },
     "execution_count": 18,
     "metadata": {},
     "output_type": "execute_result"
    },
    {
     "data": {
      "image/png": "[encoded data removed]",
      "text/plain": [
       "<Figure size 432x288 with 1 Axes>"
      ]
     },
     "metadata": {
      "needs_background": "light"
     },
     "output_type": "display_data"
    }
   ],
   "source": [
    "###PLOT FOR CONFIDENCE INTERVALS###\n",
    "\n",
    "result.conf_int().plot(kind='bar')"
   ]
  },
  {
   "cell_type": "code",
   "execution_count": 19,
   "metadata": {},
   "outputs": [
    {
     "data": {
      "image/png": "[encoded data removed]",
      "text/plain": [
       "<Figure size 432x288 with 1 Axes>"
      ]
     },
     "metadata": {
      "needs_background": "light"
     },
     "output_type": "display_data"
    }
   ],
   "source": [
    "###ALTERNATE PLOT FOR CONFIDENCE INTERVALS###\n",
    "\n",
    "for lower,upper,y in zip(ci[0],ci[1],range(len(ci))):\n",
    "    plt.plot((lower,upper),(y,y),'ro-',color='orange')\n",
    "#plt.yticks(range(len(ci)))"
   ]
  },
  {
   "cell_type": "markdown",
   "metadata": {},
   "source": [
    "From the confidence interval of coefficients of each variables, we can see that only x10's CI does not include 0. We do not reject the null hypothesis that SC has no effect on high blood pressure. SC may be the most important feature."
   ]
  },
  {
   "cell_type": "code",
   "execution_count": 20,
   "metadata": {},
   "outputs": [
    {
     "name": "stdout",
     "output_type": "stream",
     "text": [
      "x1     1.201354\n",
      "x2     0.950302\n",
      "x3     0.772507\n",
      "x4     0.893101\n",
      "x5     0.850793\n",
      "x6     0.739715\n",
      "x7     1.264496\n",
      "x8     0.809525\n",
      "x9     0.951407\n",
      "x10    1.462010\n",
      "dtype: float64\n"
     ]
    },
    {
     "data": {
      "text/plain": [
       "<matplotlib.axes._subplots.AxesSubplot at 0x165de66c970>"
      ]
     },
     "execution_count": 20,
     "metadata": {},
     "output_type": "execute_result"
    },
    {
     "data": {
      "image/png": "[encoded data removed]",
      "text/plain": [
       "<Figure size 432x288 with 1 Axes>"
      ]
     },
     "metadata": {
      "needs_background": "light"
     },
     "output_type": "display_data"
    }
   ],
   "source": [
    "###SEE ODDS AND PLOT###\n",
    "\n",
    "print(np.exp(result.params))\n",
    "np.exp(result.params).plot(kind='bar')"
   ]
  },
  {
   "cell_type": "markdown",
   "metadata": {},
   "source": [
    "From the odds we can see that x1(age), x7(smoking), and x10(SC) are greater than 1. As units increase on those three variables, the response is more like to be positive. We can see that x10 has the largest odds, which indicates that it may be the most important feature."
   ]
  },
  {
   "cell_type": "markdown",
   "metadata": {},
   "source": [
    "In conclusion, from the logstic regression x10(SC) is the most important feature. One unit increases in SC, ther will be 0.46 increase in high blood pressure. Also age and smoke are also important fearures. One unit increases in them will increase 0.2 and 0.26 respectively in high blood pressure."
   ]
  },
  {
   "cell_type": "code",
   "execution_count": 21,
   "metadata": {},
   "outputs": [
    {
     "name": "stdout",
     "output_type": "stream",
     "text": [
      "[0 0 0 0 0 0 0 0 0 0 0 0 0 0 0 0 0 0 0 0 0 0 0 0 0 0 0 0 0 0 0 0 0 0 0 0 0\n",
      " 0 0 0 0 0 0 0 0 0 0 0 0 0 0 0 0 0 0 0 0 1 0 0 1 0 0 0 0 0 0 0 0 0 0 0 0 0\n",
      " 0 0 0 0 0 0 0 0 0 1 0 0 0 0 0 0 0 0 0 0 0 0 0 0 0 0 0 0 0 0 0 0 0 0 0 0 0\n",
      " 0 0 0 0 0 0 0 1 0 1 0 0 0 0 0 0 0 0 0 0 0 0 0 0 0 0 0 0 0 0 0 0 0 0 0 0 0\n",
      " 0 0]\n",
      "Logistic Regresion Score:  0.66\n",
      "Logistic Regression CV Score:  0.59\n"
     ]
    }
   ],
   "source": [
    "###LOGISTIC REGRESSION WITH BEST FEATURES###\n",
    "\n",
    "#Best Features Dataset\n",
    "sc = StandardScaler()\n",
    "y = df['high_blood_pressure'].copy()\n",
    "X = df.drop(['anaemia', 'creatinine_phosphokinase', 'diabetes', 'high_blood_pressure', 'serum_sodium', 'sex', 'EF', 'Plat'], axis=1)\n",
    "X = sc.fit_transform(X)\n",
    "Xtrain, Xtest, ytrain, ytest = train_test_split(X, y, test_size=0.5, random_state=0)\n",
    "\n",
    "#Apply Model\n",
    "logReg = LogisticRegression(max_iter=500, penalty='l2', random_state=0)\n",
    "logReg.fit(Xtrain, ytrain)\n",
    "logRegPred = logReg.predict(Xtest)\n",
    "print(logRegPred) \n",
    "logRegScore = round(accuracy_score(ytest, logRegPred), 2)\n",
    "print('Logistic Regresion Score: ', logRegScore)\n",
    "logReg_cv_score = cross_val_score(logReg, Xtrain, ytrain, cv = 5)\n",
    "print('Logistic Regression CV Score: ', round(logReg_cv_score.mean(), 2))"
   ]
  }
 ],
 "metadata": {
  "kernelspec": {
   "display_name": "Python 3",
   "language": "python",
   "name": "python3"
  },
  "language_info": {
   "codemirror_mode": {
    "name": "ipython",
    "version": 3
   },
   "file_extension": ".py",
   "mimetype": "text/x-python",
   "name": "python",
   "nbconvert_exporter": "python",
   "pygments_lexer": "ipython3",
   "version": "3.8.3"
  }
 },
 "nbformat": 4,
 "nbformat_minor": 4
}
